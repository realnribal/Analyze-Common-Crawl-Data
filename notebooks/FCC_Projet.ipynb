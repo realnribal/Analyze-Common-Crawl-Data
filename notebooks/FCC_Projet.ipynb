{
 "cells": [
  {
   "cell_type": "markdown",
   "metadata": {
    "application/vnd.databricks.v1+cell": {
     "cellMetadata": {
      "byteLimit": 2048000,
      "rowLimit": 10000
     },
     "inputWidgets": {},
     "nuid": "e530df55-b32d-480d-8438-b4894c0fa5a7",
     "showTitle": false,
     "tableResultSettingsMap": {},
     "title": ""
    }
   },
   "source": [
    "## Imports des librairies"
   ]
  },
  {
   "cell_type": "code",
   "execution_count": 0,
   "metadata": {
    "application/vnd.databricks.v1+cell": {
     "cellMetadata": {
      "byteLimit": 2048000,
      "rowLimit": 10000
     },
     "inputWidgets": {},
     "nuid": "28f558e0-d459-425b-8b4c-30a62763b35f",
     "showTitle": false,
     "tableResultSettingsMap": {},
     "title": ""
    }
   },
   "outputs": [],
   "source": [
    "from pyspark.sql import SparkSession\n",
    "from time import time"
   ]
  },
  {
   "cell_type": "markdown",
   "metadata": {
    "application/vnd.databricks.v1+cell": {
     "cellMetadata": {
      "byteLimit": 2048000,
      "rowLimit": 10000
     },
     "inputWidgets": {},
     "nuid": "07610dc8-a3d9-4e02-b6a2-c6cc0ab76c8c",
     "showTitle": false,
     "tableResultSettingsMap": {},
     "title": ""
    }
   },
   "source": [
    "#### Définir  l'emplacement de notre fichier `file_location` "
   ]
  },
  {
   "cell_type": "code",
   "execution_count": 0,
   "metadata": {
    "application/vnd.databricks.v1+cell": {
     "cellMetadata": {
      "byteLimit": 2048000,
      "rowLimit": 10000
     },
     "inputWidgets": {},
     "nuid": "540cf79a-9d65-4298-bd31-59b1fce9cdce",
     "showTitle": false,
     "tableResultSettingsMap": {},
     "title": ""
    }
   },
   "outputs": [],
   "source": [
    "file_location = \"/FileStore/tables/web_Stanford.txt\""
   ]
  },
  {
   "cell_type": "markdown",
   "metadata": {
    "application/vnd.databricks.v1+cell": {
     "cellMetadata": {
      "byteLimit": 2048000,
      "rowLimit": 10000
     },
     "inputWidgets": {},
     "nuid": "f26f368f-f0f2-4c1f-85e1-15b341129cf9",
     "showTitle": false,
     "tableResultSettingsMap": {},
     "title": ""
    }
   },
   "source": [
    "#### Créer une session spar"
   ]
  },
  {
   "cell_type": "code",
   "execution_count": 0,
   "metadata": {
    "application/vnd.databricks.v1+cell": {
     "cellMetadata": {
      "byteLimit": 2048000,
      "rowLimit": 10000
     },
     "inputWidgets": {},
     "nuid": "d394e357-1345-43f4-bbd8-499303b50947",
     "showTitle": false,
     "tableResultSettingsMap": {},
     "title": ""
    }
   },
   "outputs": [],
   "source": []
  },
  {
   "cell_type": "markdown",
   "metadata": {
    "application/vnd.databricks.v1+cell": {
     "cellMetadata": {
      "byteLimit": 2048000,
      "rowLimit": 10000
     },
     "inputWidgets": {},
     "nuid": "2afa02f1-52a9-4775-bf62-6eb4f824113a",
     "showTitle": false,
     "tableResultSettingsMap": {},
     "title": ""
    }
   },
   "source": [
    "####  Configuration de l'environnement de traitement distribué"
   ]
  },
  {
   "cell_type": "code",
   "execution_count": 0,
   "metadata": {
    "application/vnd.databricks.v1+cell": {
     "cellMetadata": {
      "byteLimit": 2048000,
      "rowLimit": 10000
     },
     "inputWidgets": {},
     "nuid": "6482be4c-f067-47c9-b0ac-35c938b94601",
     "showTitle": false,
     "tableResultSettingsMap": {},
     "title": ""
    }
   },
   "outputs": [
    {
     "output_type": "stream",
     "name": "stdout",
     "output_type": "stream",
     "text": [
      "2\n"
     ]
    }
   ],
   "source": [
    "#crée une nouvelle session ou récupère une existante\n",
    "spark = SparkSession.builder \\\n",
    "   .appName(\"ConnectedComponentsFinder\") \\\n",
    "   .getOrCreate()\n",
    "\n",
    "#Accéder aux fonctionnalités de bas niveau de Spark comme la création de RDDs\n",
    "sc = spark.sparkContext\n",
    "lines = sc.textFile(file_location)\n",
    "print(lines.getNumPartitions())\n"
   ]
  },
  {
   "cell_type": "markdown",
   "metadata": {
    "application/vnd.databricks.v1+cell": {
     "cellMetadata": {
      "byteLimit": 2048000,
      "rowLimit": 10000
     },
     "inputWidgets": {},
     "nuid": "d255729b-80f3-4910-8b20-72421fa3a4a1",
     "showTitle": false,
     "tableResultSettingsMap": {},
     "title": ""
    }
   },
   "source": [
    "#### Afficher les premières lignes de mon fichier"
   ]
  },
  {
   "cell_type": "code",
   "execution_count": 0,
   "metadata": {
    "application/vnd.databricks.v1+cell": {
     "cellMetadata": {
      "byteLimit": 2048000,
      "rowLimit": 10000
     },
     "inputWidgets": {},
     "nuid": "dc690532-79c4-41ca-a220-0d9ec77ff67d",
     "showTitle": false,
     "tableResultSettingsMap": {},
     "title": ""
    }
   },
   "outputs": [
    {
     "output_type": "stream",
     "name": "stdout",
     "output_type": "stream",
     "text": [
      "Out[33]: ['# Directed graph (each unordered pair of nodes is saved once): web-Stanford.txt ',\n '# Stanford web graph from 2002',\n '# Nodes: 281903 Edges: 2312497',\n '# FromNodeId\\tToNodeId',\n '1\\t6548',\n '1\\t15409',\n '6548\\t57031',\n '15409\\t13102',\n '2\\t17794',\n '2\\t25202',\n '2\\t53625',\n '2\\t54582',\n '2\\t64930',\n '2\\t73764',\n '2\\t84477',\n '2\\t98628',\n '2\\t100193',\n '2\\t102355',\n '2\\t105318',\n '2\\t105730']"
     ]
    }
   ],
   "source": [
    "lines.take(20)"
   ]
  },
  {
   "cell_type": "markdown",
   "metadata": {
    "application/vnd.databricks.v1+cell": {
     "cellMetadata": {
      "byteLimit": 2048000,
      "rowLimit": 10000
     },
     "inputWidgets": {},
     "nuid": "93461808-645b-4923-9936-5f1bae1f5ac6",
     "showTitle": false,
     "tableResultSettingsMap": {},
     "title": ""
    }
   },
   "source": [
    "#### Filtrer pour ne contenir que les lignes non commentées"
   ]
  },
  {
   "cell_type": "code",
   "execution_count": 0,
   "metadata": {
    "application/vnd.databricks.v1+cell": {
     "cellMetadata": {
      "byteLimit": 2048000,
      "rowLimit": 10000
     },
     "inputWidgets": {},
     "nuid": "bd82bb99-1479-4d5c-be10-8c36df0f1d44",
     "showTitle": false,
     "tableResultSettingsMap": {},
     "title": ""
    }
   },
   "outputs": [
    {
     "output_type": "stream",
     "name": "stdout",
     "output_type": "stream",
     "text": [
      "Out[34]: ['1\\t6548', '1\\t15409', '6548\\t57031', '15409\\t13102', '2\\t17794']"
     ]
    }
   ],
   "source": [
    "lines = lines.filter(lambda x: not x.startswith(\"#\"))\n",
    "lines.take(5)"
   ]
  },
  {
   "cell_type": "markdown",
   "metadata": {
    "application/vnd.databricks.v1+cell": {
     "cellMetadata": {
      "byteLimit": 2048000,
      "rowLimit": 10000
     },
     "inputWidgets": {},
     "nuid": "bfdafe16-161a-4a94-bd89-e77198072490",
     "showTitle": false,
     "tableResultSettingsMap": {},
     "title": ""
    }
   },
   "source": [
    "#### Transformer les données en tupples "
   ]
  },
  {
   "cell_type": "code",
   "execution_count": 0,
   "metadata": {
    "application/vnd.databricks.v1+cell": {
     "cellMetadata": {
      "byteLimit": 2048000,
      "rowLimit": 10000
     },
     "inputWidgets": {},
     "nuid": "f1e33750-47e1-41d4-96fc-2b28a74e3cd0",
     "showTitle": false,
     "tableResultSettingsMap": {},
     "title": ""
    }
   },
   "outputs": [],
   "source": [
    "edges = lines.map(lambda l : tuple(map(lambda i: int(i), l.split(\"\\t\")[:2])))"
   ]
  },
  {
   "cell_type": "markdown",
   "metadata": {
    "application/vnd.databricks.v1+cell": {
     "cellMetadata": {
      "byteLimit": 2048000,
      "rowLimit": 10000
     },
     "inputWidgets": {},
     "nuid": "dff47515-8c0d-411e-9426-94b6db8f3516",
     "showTitle": false,
     "tableResultSettingsMap": {},
     "title": ""
    }
   },
   "source": [
    "#### Initialisation des variables"
   ]
  },
  {
   "cell_type": "code",
   "execution_count": 0,
   "metadata": {
    "application/vnd.databricks.v1+cell": {
     "cellMetadata": {
      "byteLimit": 2048000,
      "rowLimit": 10000
     },
     "inputWidgets": {},
     "nuid": "cb0aab56-39fa-4101-abe6-119047476d38",
     "showTitle": false,
     "tableResultSettingsMap": {},
     "title": ""
    }
   },
   "outputs": [],
   "source": [
    "iterationID = 0\n",
    "accum = sc.accumulator(0)\n",
    "newPair = True"
   ]
  },
  {
   "cell_type": "markdown",
   "metadata": {
    "application/vnd.databricks.v1+cell": {
     "cellMetadata": {
      "byteLimit": 2048000,
      "rowLimit": 10000
     },
     "inputWidgets": {},
     "nuid": "5f232f88-068c-408b-9089-8ed71baa75b6",
     "showTitle": false,
     "tableResultSettingsMap": {},
     "title": ""
    }
   },
   "source": [
    "#### Function of the CCF-Iterate"
   ]
  },
  {
   "cell_type": "code",
   "execution_count": 0,
   "metadata": {
    "application/vnd.databricks.v1+cell": {
     "cellMetadata": {
      "byteLimit": 2048000,
      "rowLimit": 10000
     },
     "inputWidgets": {},
     "nuid": "05bd70a4-914a-4048-8448-0cbe58e2bcb5",
     "showTitle": false,
     "tableResultSettingsMap": {},
     "title": ""
    }
   },
   "outputs": [],
   "source": [
    "def itRedCCF(pair):\n",
    "  key, values = pair\n",
    "  min = key\n",
    "  valueL = []\n",
    "  for value in values:\n",
    "    if value < min:\n",
    "       min = value\n",
    "    valueL.append(value)\n",
    "  if min < key:\n",
    "    yield((key, min))\n",
    "    for value in valueL:\n",
    "      if min != value:\n",
    "        accum.add(1)\n",
    "        yield((value, min))"
   ]
  },
  {
   "cell_type": "markdown",
   "metadata": {
    "application/vnd.databricks.v1+cell": {
     "cellMetadata": {
      "byteLimit": 2048000,
      "rowLimit": 10000
     },
     "inputWidgets": {},
     "nuid": "bf958062-a422-4e22-b320-d0e653e33d6c",
     "showTitle": false,
     "tableResultSettingsMap": {},
     "title": ""
    }
   },
   "source": [
    "#### Main program : data processing with the 2 MapReduce jobs"
   ]
  },
  {
   "cell_type": "code",
   "execution_count": 0,
   "metadata": {
    "application/vnd.databricks.v1+cell": {
     "cellMetadata": {
      "byteLimit": 2048000,
      "rowLimit": 10000
     },
     "inputWidgets": {},
     "nuid": "6a801fbb-d67d-4896-b223-26c1b6ebc16f",
     "showTitle": false,
     "tableResultSettingsMap": {},
     "title": ""
    }
   },
   "outputs": [
    {
     "output_type": "stream",
     "name": "stdout",
     "output_type": "stream",
     "text": [
      "Iteration:  1 , newPair?  True\nIteration:  2 , newPair?  True\nIteration:  3 , newPair?  True\nIteration:  4 , newPair?  True\nIteration:  5 , newPair?  True\nIteration:  6 , newPair?  True\nIteration:  7 , newPair?  True\nIteration:  8 , newPair?  True\nIteration:  9 , newPair?  True\nIteration:  10 , newPair?  True\nIteration:  11 , newPair?  True\nIteration:  12 , newPair?  True\nIteration:  13 , newPair?  True\nIteration:  14 , newPair?  True\nIteration:  15 , newPair?  False\nExecution time of data processing:  123.28433585166931\nNumber of connected components in graph:  365\nComponent id: 48 | Number of nodes:  670\nComponent id: 40 | Number of nodes:  261\nComponent id: 136 | Number of nodes:  755\nComponent id: 272 | Number of nodes:  382\nComponent id: 936 | Number of nodes:  147\nComponent id: 800 | Number of nodes:  112\nComponent id: 488 | Number of nodes:  53\nComponent id: 320 | Number of nodes:  8\nComponent id: 208 | Number of nodes:  268\nComponent id: 4248 | Number of nodes:  105\nComponent id: 4120 | Number of nodes:  72\nComponent id: 3360 | Number of nodes:  40\nComponent id: 640 | Number of nodes:  121\nComponent id: 8832 | Number of nodes:  11\nComponent id: 2880 | Number of nodes:  2\nComponent id: 608 | Number of nodes:  58\nComponent id: 18688 | Number of nodes:  47\nComponent id: 20360 | Number of nodes:  31\nComponent id: 39048 | Number of nodes:  25\nComponent id: 41144 | Number of nodes:  17\nComponent id: 71216 | Number of nodes:  11\nComponent id: 46656 | Number of nodes:  5\nComponent id: 74048 | Number of nodes:  15\nComponent id: 73024 | Number of nodes:  31\nComponent id: 77024 | Number of nodes:  9\nComponent id: 34904 | Number of nodes:  2\nComponent id: 11056 | Number of nodes:  31\nComponent id: 76072 | Number of nodes:  3\nComponent id: 115360 | Number of nodes:  4\nComponent id: 56112 | Number of nodes:  5\nComponent id: 31512 | Number of nodes:  2\nComponent id: 12128 | Number of nodes:  7\nComponent id: 160896 | Number of nodes:  9\nComponent id: 54968 | Number of nodes:  13\nComponent id: 154368 | Number of nodes:  3\nComponent id: 214904 | Number of nodes:  6\nComponent id: 7224 | Number of nodes:  2\nComponent id: 464 | Number of nodes:  3\nComponent id: 48032 | Number of nodes:  3\nComponent id: 12816 | Number of nodes:  2\nComponent id: 18584 | Number of nodes:  2\nComponent id: 192440 | Number of nodes:  2\nComponent id: 103272 | Number of nodes:  2\nComponent id: 1 | Number of nodes:  255265\nComponent id: 1025 | Number of nodes:  472\nComponent id: 497 | Number of nodes:  389\nComponent id: 585 | Number of nodes:  409\nComponent id: 825 | Number of nodes:  232\nComponent id: 1505 | Number of nodes:  104\nComponent id: 1161 | Number of nodes:  78\nComponent id: 297 | Number of nodes:  241\nComponent id: 1649 | Number of nodes:  43\nComponent id: 1481 | Number of nodes:  16\nComponent id: 3401 | Number of nodes:  140\nComponent id: 4177 | Number of nodes:  28\nComponent id: 2785 | Number of nodes:  19\nComponent id: 33 | Number of nodes:  131\nComponent id: 3769 | Number of nodes:  18\nComponent id: 4649 | Number of nodes:  3\nComponent id: 28297 | Number of nodes:  42\nComponent id: 11017 | Number of nodes:  52\nComponent id: 29313 | Number of nodes:  42\nComponent id: 28265 | Number of nodes:  4\nComponent id: 47497 | Number of nodes:  35\nComponent id: 53681 | Number of nodes:  22\nComponent id: 64601 | Number of nodes:  11\nComponent id: 13113 | Number of nodes:  47\nComponent id: 11409 | Number of nodes:  5\nComponent id: 141345 | Number of nodes:  4\nComponent id: 20009 | Number of nodes:  2\nComponent id: 50121 | Number of nodes:  3\nComponent id: 179457 | Number of nodes:  6\nComponent id: 163337 | Number of nodes:  8\nComponent id: 44185 | Number of nodes:  4\nComponent id: 42129 | Number of nodes:  2\nComponent id: 6249 | Number of nodes:  2\nComponent id: 74073 | Number of nodes:  3\nComponent id: 59537 | Number of nodes:  3\nComponent id: 124537 | Number of nodes:  2\nComponent id: 265353 | Number of nodes:  3\nComponent id: 18 | Number of nodes:  628\nComponent id: 306 | Number of nodes:  227\nComponent id: 10 | Number of nodes:  508\nComponent id: 746 | Number of nodes:  280\nComponent id: 522 | Number of nodes:  257\nComponent id: 986 | Number of nodes:  269\nComponent id: 34 | Number of nodes:  111\nComponent id: 1682 | Number of nodes:  269\nComponent id: 58 | Number of nodes:  47\nComponent id: 242 | Number of nodes:  247\nComponent id: 314 | Number of nodes:  40\nComponent id: 162 | Number of nodes:  448\nComponent id: 3410 | Number of nodes:  76\nComponent id: 3146 | Number of nodes:  37\nComponent id: 2658 | Number of nodes:  16\nComponent id: 3058 | Number of nodes:  90\nComponent id: 778 | Number of nodes:  22\nComponent id: 10274 | Number of nodes:  24\nComponent id: 28730 | Number of nodes:  37\nComponent id: 28970 | Number of nodes:  55\nComponent id: 8794 | Number of nodes:  90\nComponent id: 730 | Number of nodes:  8\nComponent id: 21834 | Number of nodes:  42\nComponent id: 37802 | Number of nodes:  7\nComponent id: 10570 | Number of nodes:  13\nComponent id: 72786 | Number of nodes:  57\nComponent id: 73242 | Number of nodes:  9\nComponent id: 50482 | Number of nodes:  6\nComponent id: 36650 | Number of nodes:  8\nComponent id: 57722 | Number of nodes:  3\nComponent id: 143242 | Number of nodes:  11\nComponent id: 97314 | Number of nodes:  2\nComponent id: 150290 | Number of nodes:  8\nComponent id: 183882 | Number of nodes:  3\nComponent id: 165330 | Number of nodes:  8\nComponent id: 123874 | Number of nodes:  3\nComponent id: 38274 | Number of nodes:  25\nComponent id: 212762 | Number of nodes:  9\nComponent id: 214834 | Number of nodes:  9\nComponent id: 235122 | Number of nodes:  2\nComponent id: 52170 | Number of nodes:  6\nComponent id: 139090 | Number of nodes:  2\nComponent id: 79282 | Number of nodes:  4\nComponent id: 14506 | Number of nodes:  2\nComponent id: 55794 | Number of nodes:  2\nComponent id: 195786 | Number of nodes:  2\nComponent id: 175114 | Number of nodes:  2\nComponent id: 107 | Number of nodes:  466\nComponent id: 163 | Number of nodes:  385\nComponent id: 891 | Number of nodes:  172\nComponent id: 331 | Number of nodes:  292\nComponent id: 1739 | Number of nodes:  373\nComponent id: 2139 | Number of nodes:  118\nComponent id: 2107 | Number of nodes:  19\nComponent id: 395 | Number of nodes:  74\nComponent id: 3963 | Number of nodes:  20\nComponent id: 5571 | Number of nodes:  41\nComponent id: 5259 | Number of nodes:  11\nComponent id: 8955 | Number of nodes:  93\nComponent id: 8699 | Number of nodes:  37\nComponent id: 3891 | Number of nodes:  14\nComponent id: 20251 | Number of nodes:  17\nComponent id: 995 | Number of nodes:  28\nComponent id: 17163 | Number of nodes:  2\nComponent id: 5995 | Number of nodes:  17\nComponent id: 49027 | Number of nodes:  10\nComponent id: 88435 | Number of nodes:  19\nComponent id: 22011 | Number of nodes:  4\nComponent id: 143739 | Number of nodes:  9\nComponent id: 144915 | Number of nodes:  8\nComponent id: 102627 | Number of nodes:  2\nComponent id: 148259 | Number of nodes:  12\nComponent id: 213683 | Number of nodes:  2\nComponent id: 48067 | Number of nodes:  2\nComponent id: 9211 | Number of nodes:  5\nComponent id: 57003 | Number of nodes:  2\nComponent id: 58003 | Number of nodes:  2\nComponent id: 76267 | Number of nodes:  4\nComponent id: 31443 | Number of nodes:  2\nComponent id: 29395 | Number of nodes:  3\nComponent id: 108643 | Number of nodes:  3\nComponent id: 168411 | Number of nodes:  2\nComponent id: 119611 | Number of nodes:  2\nComponent id: 36 | Number of nodes:  525\nComponent id: 596 | Number of nodes:  295\nComponent id: 556 | Number of nodes:  400\nComponent id: 1316 | Number of nodes:  108\nComponent id: 148 | Number of nodes:  369\nComponent id: 1308 | Number of nodes:  157\nComponent id: 1420 | Number of nodes:  250\nComponent id: 1340 | Number of nodes:  78\nComponent id: 2100 | Number of nodes:  76\nComponent id: 1804 | Number of nodes:  77\nComponent id: 932 | Number of nodes:  6\nComponent id: 500 | Number of nodes:  147\nComponent id: 116 | Number of nodes:  54\nComponent id: 348 | Number of nodes:  123\nComponent id: 2932 | Number of nodes:  3\nComponent id: 4004 | Number of nodes:  108\nComponent id: 4340 | Number of nodes:  51\nComponent id: 11092 | Number of nodes:  18\nComponent id: 18180 | Number of nodes:  19\nComponent id: 12396 | Number of nodes:  14\nComponent id: 228 | Number of nodes:  55\nComponent id: 20420 | Number of nodes:  15\nComponent id: 38892 | Number of nodes:  76\nComponent id: 44188 | Number of nodes:  34\nComponent id: 27780 | Number of nodes:  14\nComponent id: 41812 | Number of nodes:  4\nComponent id: 71444 | Number of nodes:  41\nComponent id: 46636 | Number of nodes:  6\nComponent id: 70724 | Number of nodes:  9\nComponent id: 82788 | Number of nodes:  9\nComponent id: 71164 | Number of nodes:  24\nComponent id: 101868 | Number of nodes:  8\nComponent id: 73932 | Number of nodes:  9\nComponent id: 108980 | Number of nodes:  7\nComponent id: 13884 | Number of nodes:  5\nComponent id: 82916 | Number of nodes:  5\nComponent id: 24628 | Number of nodes:  4\nComponent id: 177932 | Number of nodes:  7\nComponent id: 218388 | Number of nodes:  14\nComponent id: 231972 | Number of nodes:  15\nComponent id: 240332 | Number of nodes:  17\nComponent id: 75940 | Number of nodes:  2\nComponent id: 195060 | Number of nodes:  3\nComponent id: 248860 | Number of nodes:  2\nComponent id: 16420 | Number of nodes:  2\nComponent id: 12732 | Number of nodes:  4\nComponent id: 141 | Number of nodes:  432\nComponent id: 301 | Number of nodes:  524\nComponent id: 245 | Number of nodes:  263\nComponent id: 189 | Number of nodes:  290\nComponent id: 1997 | Number of nodes:  159\nComponent id: 2005 | Number of nodes:  263\nComponent id: 933 | Number of nodes:  189\nComponent id: 341 | Number of nodes:  476\nComponent id: 1349 | Number of nodes:  92\nComponent id: 1861 | Number of nodes:  15\nComponent id: 1485 | Number of nodes:  25\nComponent id: 685 | Number of nodes:  17\nComponent id: 3565 | Number of nodes:  157\nComponent id: 2573 | Number of nodes:  25\nComponent id: 2477 | Number of nodes:  50\nComponent id: 6077 | Number of nodes:  23\nComponent id: 2813 | Number of nodes:  2\nComponent id: 125 | Number of nodes:  55\nComponent id: 645 | Number of nodes:  34\nComponent id: 12261 | Number of nodes:  46\nComponent id: 10053 | Number of nodes:  47\nComponent id: 16269 | Number of nodes:  36\nComponent id: 13925 | Number of nodes:  9\nComponent id: 20405 | Number of nodes:  11\nComponent id: 30221 | Number of nodes:  24\nComponent id: 38629 | Number of nodes:  6\nComponent id: 13 | Number of nodes:  4\nComponent id: 293 | Number of nodes:  11\nComponent id: 2733 | Number of nodes:  23\nComponent id: 21149 | Number of nodes:  11\nComponent id: 73957 | Number of nodes:  11\nComponent id: 73397 | Number of nodes:  10\nComponent id: 81981 | Number of nodes:  15\nComponent id: 31357 | Number of nodes:  4\nComponent id: 85197 | Number of nodes:  4\nComponent id: 46469 | Number of nodes:  3\nComponent id: 116029 | Number of nodes:  15\nComponent id: 91701 | Number of nodes:  2\nComponent id: 100453 | Number of nodes:  2\nComponent id: 169781 | Number of nodes:  9\nComponent id: 45957 | Number of nodes:  3\nComponent id: 180797 | Number of nodes:  6\nComponent id: 179589 | Number of nodes:  7\nComponent id: 41533 | Number of nodes:  20\nComponent id: 26173 | Number of nodes:  20\nComponent id: 215269 | Number of nodes:  8\nComponent id: 87165 | Number of nodes:  3\nComponent id: 209173 | Number of nodes:  8\nComponent id: 138093 | Number of nodes:  2\nComponent id: 203413 | Number of nodes:  2\nComponent id: 237917 | Number of nodes:  9\nComponent id: 50597 | Number of nodes:  2\nComponent id: 215925 | Number of nodes:  11\nComponent id: 274333 | Number of nodes:  2\nComponent id: 373 | Number of nodes:  10\nComponent id: 83045 | Number of nodes:  2\nComponent id: 58197 | Number of nodes:  2\nComponent id: 112269 | Number of nodes:  2\nComponent id: 46 | Number of nodes:  554\nComponent id: 134 | Number of nodes:  508\nComponent id: 1158 | Number of nodes:  614\nComponent id: 54 | Number of nodes:  414\nComponent id: 6 | Number of nodes:  153\nComponent id: 1838 | Number of nodes:  215\nComponent id: 542 | Number of nodes:  601\nComponent id: 1238 | Number of nodes:  105\nComponent id: 2686 | Number of nodes:  174\nComponent id: 2126 | Number of nodes:  64\nComponent id: 2070 | Number of nodes:  139\nComponent id: 1926 | Number of nodes:  20\nComponent id: 1014 | Number of nodes:  75\nComponent id: 918 | Number of nodes:  43\nComponent id: 150 | Number of nodes:  15\nComponent id: 1910 | Number of nodes:  47\nComponent id: 1558 | Number of nodes:  141\nComponent id: 510 | Number of nodes:  23\nComponent id: 3158 | Number of nodes:  146\nComponent id: 6806 | Number of nodes:  29\nComponent id: 2910 | Number of nodes:  32\nComponent id: 8334 | Number of nodes:  64\nComponent id: 30 | Number of nodes:  26\nComponent id: 12022 | Number of nodes:  15\nComponent id: 4222 | Number of nodes:  70\nComponent id: 15838 | Number of nodes:  3\nComponent id: 11926 | Number of nodes:  32\nComponent id: 21102 | Number of nodes:  21\nComponent id: 12718 | Number of nodes:  23\nComponent id: 4102 | Number of nodes:  24\nComponent id: 8310 | Number of nodes:  4\nComponent id: 6110 | Number of nodes:  17\nComponent id: 40446 | Number of nodes:  5\nComponent id: 15926 | Number of nodes:  8\nComponent id: 73782 | Number of nodes:  24\nComponent id: 76486 | Number of nodes:  7\nComponent id: 74294 | Number of nodes:  9\nComponent id: 88766 | Number of nodes:  3\nComponent id: 54414 | Number of nodes:  9\nComponent id: 122982 | Number of nodes:  2\nComponent id: 151334 | Number of nodes:  11\nComponent id: 5574 | Number of nodes:  5\nComponent id: 27654 | Number of nodes:  2\nComponent id: 211318 | Number of nodes:  10\nComponent id: 215078 | Number of nodes:  8\nComponent id: 215454 | Number of nodes:  11\nComponent id: 248550 | Number of nodes:  7\nComponent id: 272870 | Number of nodes:  3\nComponent id: 12670 | Number of nodes:  5\nComponent id: 21566 | Number of nodes:  3\nComponent id: 99230 | Number of nodes:  9\nComponent id: 128646 | Number of nodes:  5\nComponent id: 35558 | Number of nodes:  2\nComponent id: 143 | Number of nodes:  195\nComponent id: 47 | Number of nodes:  308\nComponent id: 791 | Number of nodes:  204\nComponent id: 199 | Number of nodes:  263\nComponent id: 887 | Number of nodes:  206\nComponent id: 111 | Number of nodes:  71\nComponent id: 1279 | Number of nodes:  252\nComponent id: 1591 | Number of nodes:  273\nComponent id: 1063 | Number of nodes:  241\nComponent id: 855 | Number of nodes:  11\nComponent id: 2399 | Number of nodes:  227\nComponent id: 815 | Number of nodes:  50\nComponent id: 1439 | Number of nodes:  45\nComponent id: 455 | Number of nodes:  43\nComponent id: 39 | Number of nodes:  53\nComponent id: 2815 | Number of nodes:  123\nComponent id: 12591 | Number of nodes:  25\nComponent id: 1351 | Number of nodes:  47\nComponent id: 2943 | Number of nodes:  58\nComponent id: 807 | Number of nodes:  68\nComponent id: 27007 | Number of nodes:  11\nComponent id: 30335 | Number of nodes:  36\nComponent id: 30199 | Number of nodes:  5\nComponent id: 50991 | Number of nodes:  7\nComponent id: 39231 | Number of nodes:  24\nComponent id: 999 | Number of nodes:  4\nComponent id: 73919 | Number of nodes:  35\nComponent id: 879 | Number of nodes:  3\nComponent id: 76527 | Number of nodes:  18\nComponent id: 2279 | Number of nodes:  10\nComponent id: 80711 | Number of nodes:  23\nComponent id: 60399 | Number of nodes:  4\nComponent id: 44327 | Number of nodes:  4\nComponent id: 103599 | Number of nodes:  5\nComponent id: 167663 | Number of nodes:  11\nComponent id: 48735 | Number of nodes:  4\nComponent id: 179623 | Number of nodes:  6\nComponent id: 36943 | Number of nodes:  4\nComponent id: 177847 | Number of nodes:  7\nComponent id: 188999 | Number of nodes:  3\nComponent id: 214631 | Number of nodes:  9\nComponent id: 212863 | Number of nodes:  8\nComponent id: 3495 | Number of nodes:  4\nComponent id: 26127 | Number of nodes:  2\nComponent id: 2319 | Number of nodes:  2\n"
     ]
    }
   ],
   "source": [
    "#timer on\n",
    "begin = time()\n",
    "while newPair == True:\n",
    "  iterationID += 1\n",
    "  newPair = False\n",
    "  accum.value = 0\n",
    "  \n",
    "  #CCF-iterate (MAP)\n",
    "  firstJobMap = edges.flatMap(lambda e: (e, e[::-1]))\n",
    "  \n",
    "  #CCF-iterate (REDUCE)  \n",
    "  firstJobReduce = firstJobMap.groupByKey().flatMap(lambda pair: itRedCCF(pair)).sortByKey()\n",
    "  \n",
    "  #CFF-debup (MAP & REDUCE)\n",
    "  debupEdges = firstJobReduce.distinct()\n",
    "  \n",
    "  edges = debupEdges\n",
    "  newPair = bool(accum.value)\n",
    "  print(\"Iteration: \", iterationID, \", newPair? \", newPair)\n",
    "\n",
    "ending = time() - begin\n",
    "print(\"Execution time of data processing: \", ending)\n",
    "results = list(map(lambda e: e[::-1], edges.collect()))\n",
    "\n",
    "resultsAgg = sc.parallelize(results).groupByKey().map(lambda a: (a[0], list(a[1]))).collect()\n",
    "print(\"Number of connected components in graph: \", len(resultsAgg))\n",
    "\n",
    "for k in resultsAgg:\n",
    "  print(\"Component id:\", k[0], \"| Number of nodes: \", len(k[1]) +1)"
   ]
  },
  {
   "cell_type": "code",
   "execution_count": 0,
   "metadata": {
    "application/vnd.databricks.v1+cell": {
     "cellMetadata": {
      "byteLimit": 2048000,
      "rowLimit": 10000
     },
     "inputWidgets": {},
     "nuid": "ff5021dc-269a-4297-9006-3a95fd1218c0",
     "showTitle": false,
     "tableResultSettingsMap": {},
     "title": ""
    }
   },
   "outputs": [],
   "source": []
  }
 ],
 "metadata": {
  "application/vnd.databricks.v1+notebook": {
   "computePreferences": null,
   "dashboards": [],
   "environmentMetadata": null,
   "language": "python",
   "notebookMetadata": {
    "pythonIndentUnit": 4
   },
   "notebookName": "FCC_Projet",
   "widgets": {}
  }
 },
 "nbformat": 4,
 "nbformat_minor": 0
}
